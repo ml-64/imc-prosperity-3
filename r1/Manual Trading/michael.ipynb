{
 "cells": [
  {
   "cell_type": "markdown",
   "id": "bc984cce-ab7a-4b1f-94b1-0c4f8ba956ed",
   "metadata": {},
   "source": [
    "# Manual Trading\n",
    "\n",
    "Ideas: there are asymmetries in exchange of products. For example, trading pizza to snowballs, then back to pizzas results in 1.015 pizzas. The goal is to find some order that maximizes asymmetries in a profitable way. \n",
    "\n",
    "1. We should define one of the products as the \"objective\" price, pricing everything else relative to it. For example, let the price of snowballs = 1, then the price of everything is the exchange rate between snowballs.\n",
    "2. Dynamic programming should be the \"correct\" way to do this. I'm shit at programming so I'm just gonna try to brute force this."
   ]
  },
  {
   "cell_type": "code",
   "execution_count": 16,
   "id": "9485426e-d531-47c5-ab6b-7f7c30fbc7d6",
   "metadata": {},
   "outputs": [
    {
     "name": "stdout",
     "output_type": "stream",
     "text": [
      "[(544.3401600000001, '0210'), (538.02112, '2102'), (536.9364, '3102'), (536.9364, '1023'), (536.9364, '102'), (536.21568, '1021'), (526.90274, '0102'), (526.383624, '0202'), (519.1160000000001, '3023'), (519.1160000000001, '302'), (519.1160000000001, '023'), (519.1160000000001, '02'), (518.4192, '3021'), (518.4192, '0213'), (518.4192, '021'), (506.4444, '1010'), (505.94543999999996, '1020'), (500.8431168000001, '0230'), (500.8431168, '0302'), (500.0, '3'), (500.0, ''), (499.96799999999996, '3210'), (499.96799999999996, '2103'), (499.96799999999996, '210'), (498.96, '3103'), (498.96, '310'), (498.96, '103'), (498.96, '10'), (498.8704760000001, '0212'), (495.0290176000001, '2302'), (495.0290176000001, '0232'), (493.36784640000013, '0231'), (493.3678464, '1302'), (489.63599999999997, '3010'), (489.63599999999997, '0103'), (489.63599999999997, '010'), (489.1536, '3020'), (489.1536, '0203'), (489.1536, '020'), (483.47520000000003, '3202'), (483.47520000000003, '2023'), (483.47520000000003, '202'), (483.3023999999999, '2101'), (482.82624, '2021'), (482.4, '303'), (482.4, '30'), (482.4, '03'), (482.4, '0'), (482.328, '3101'), (482.328, '1013'), (482.328, '101'), (481.396608, '1030'), (481.3966079999999, '0310'), (479.50055999999995, '1210'), (476.8, '323'), (476.8, '32'), (476.8, '23'), (476.8, '2'), (476.15999999999997, '3213'), (476.15999999999997, '321'), (476.15999999999997, '213'), (476.15999999999997, '21'), (475.80825600000003, '1032'), (475.808256, '2310'), (475.2, '313'), (475.2, '31'), (475.2, '13'), (475.2, '1'), (474.21158399999996, '1031'), (474.2115839999999, '1310'), (473.31479999999993, '0101'), (472.84848, '0201'), (466.32, '3013'), (466.32, '301'), (466.32, '013'), (466.32, '01'), (465.41952000000003, '3030'), (465.41952000000003, '0303'), (465.41952000000003, '030'), (464.14021500000007, '1012'), (463.682934, '1202'), (460.01664, '3230'), (460.01664, '3032'), (460.01664, '2303'), (460.01664, '230'), (460.01664, '0323'), (460.01664, '032'), (459.399168, '2130'), (459.399168, '0321'), (458.47296, '3130'), (458.47296, '1303'), (458.47296, '130'), (458.47295999999994, '3031'), (458.47295999999994, '0313'), (458.47295999999994, '031'), (458.2048, '3212'), (458.2048, '2123'), (458.2048, '212'), (457.58976, '2121'), (457.28099999999995, '3123')]\n"
     ]
    }
   ],
   "source": [
    "mat = [[1.,1.45,0.52,0.72],\n",
    "       [0.7,1.,0.31,0.48],\n",
    "       [1.95,3.1,1.,1.49],\n",
    "       [1.34,1.98,0.64,1.]]\n",
    "\n",
    "### BRUTE FORCE METHOD\n",
    "# n = number of trades\n",
    "# obj = which \"product\" should be our objective price \n",
    "#    indicator (0, 1, 2, or 3)\n",
    "def brute_force(n):\n",
    "\n",
    "    def generate_combos (n, letters):\n",
    "        result = []\n",
    "    \n",
    "        def backtrack(current):\n",
    "            if len(current) == n:\n",
    "                result.append(current)\n",
    "                return\n",
    "            for letter in letters:\n",
    "                if not current or current[-1] != letter:\n",
    "                    backtrack(current + letter)\n",
    "    \n",
    "        backtrack(\"\")\n",
    "        return result\n",
    "    \n",
    "    orders = generate_combos(n, ['0', '1', '2', '3'])\n",
    "    \n",
    "    def calc_score(obj, orders):\n",
    "        scores = []\n",
    "        for x in orders:\n",
    "            ctr = 0\n",
    "            cur = obj\n",
    "            cap = 500.\n",
    "            while(ctr < n):\n",
    "                mult = mat[cur][int(x[ctr])]\n",
    "                cap = cap * mult\n",
    "                cur = int(x[ctr])\n",
    "                ctr += 1\n",
    "            if cur != obj:\n",
    "                mult = mat[cur][obj]\n",
    "                cap = cap * mult\n",
    "            score = cap\n",
    "            scores.append((score, x))\n",
    "    \n",
    "        return scores\n",
    "\n",
    "    return calc_score(3, orders)\n",
    "    \n",
    "leaderboard = []\n",
    "\n",
    "for x in range(5):\n",
    "    leaderboard = leaderboard + brute_force(x)\n",
    "\n",
    "print(sorted(leaderboard, reverse=True)[0:100])\n",
    "    \n"
   ]
  },
  {
   "cell_type": "markdown",
   "id": "92bbe88f-3b39-4b69-85bd-05b4be46f292",
   "metadata": {},
   "source": []
  },
  {
   "cell_type": "code",
   "execution_count": null,
   "id": "8cc6cfa3-617a-4430-b557-54c423d26091",
   "metadata": {},
   "outputs": [],
   "source": []
  }
 ],
 "metadata": {
  "kernelspec": {
   "display_name": "Python 3 (ipykernel)",
   "language": "python",
   "name": "python3"
  },
  "language_info": {
   "codemirror_mode": {
    "name": "ipython",
    "version": 3
   },
   "file_extension": ".py",
   "mimetype": "text/x-python",
   "name": "python",
   "nbconvert_exporter": "python",
   "pygments_lexer": "ipython3",
   "version": "3.12.4"
  }
 },
 "nbformat": 4,
 "nbformat_minor": 5
}
