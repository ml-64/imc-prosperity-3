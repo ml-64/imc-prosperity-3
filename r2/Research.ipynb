{
 "cells": [
  {
   "cell_type": "code",
   "execution_count": 2,
   "metadata": {
    "colab": {
     "base_uri": "https://localhost:8080/",
     "height": 382
    },
    "executionInfo": {
     "elapsed": 51,
     "status": "error",
     "timestamp": 1744406166761,
     "user": {
      "displayName": "Buck Arney",
      "userId": "12192142485215092645"
     },
     "user_tz": 300
    },
    "id": "uKgCMwaZshkX",
    "outputId": "5bfdff36-b324-47cb-ed96-4cf4440d656b"
   },
   "outputs": [
    {
     "ename": "FileNotFoundError",
     "evalue": "[Errno 2] No such file or directory: 'prices_round_2_day_-1.csv'",
     "output_type": "error",
     "traceback": [
      "\u001b[0;31m---------------------------------------------------------------------------\u001b[0m",
      "\u001b[0;31mFileNotFoundError\u001b[0m                         Traceback (most recent call last)",
      "\u001b[0;32m<ipython-input-2-610ddfd82755>\u001b[0m in \u001b[0;36m<cell line: 0>\u001b[0;34m()\u001b[0m\n\u001b[1;32m      4\u001b[0m \u001b[0;34m\u001b[0m\u001b[0m\n\u001b[1;32m      5\u001b[0m \u001b[0;31m# === Load Data ===\u001b[0m\u001b[0;34m\u001b[0m\u001b[0;34m\u001b[0m\u001b[0m\n\u001b[0;32m----> 6\u001b[0;31m \u001b[0mprices_neg1\u001b[0m \u001b[0;34m=\u001b[0m \u001b[0mpd\u001b[0m\u001b[0;34m.\u001b[0m\u001b[0mread_csv\u001b[0m\u001b[0;34m(\u001b[0m\u001b[0;34m\"prices_round_2_day_-1.csv\"\u001b[0m\u001b[0;34m,\u001b[0m \u001b[0msep\u001b[0m\u001b[0;34m=\u001b[0m\u001b[0;34m\";\"\u001b[0m\u001b[0;34m)\u001b[0m\u001b[0;34m\u001b[0m\u001b[0;34m\u001b[0m\u001b[0m\n\u001b[0m\u001b[1;32m      7\u001b[0m \u001b[0mprices_0\u001b[0m \u001b[0;34m=\u001b[0m \u001b[0mpd\u001b[0m\u001b[0;34m.\u001b[0m\u001b[0mread_csv\u001b[0m\u001b[0;34m(\u001b[0m\u001b[0;34m\"prices_round_2_day_0.csv\"\u001b[0m\u001b[0;34m,\u001b[0m \u001b[0msep\u001b[0m\u001b[0;34m=\u001b[0m\u001b[0;34m\";\"\u001b[0m\u001b[0;34m)\u001b[0m\u001b[0;34m\u001b[0m\u001b[0;34m\u001b[0m\u001b[0m\n\u001b[1;32m      8\u001b[0m \u001b[0mprices_1\u001b[0m \u001b[0;34m=\u001b[0m \u001b[0mpd\u001b[0m\u001b[0;34m.\u001b[0m\u001b[0mread_csv\u001b[0m\u001b[0;34m(\u001b[0m\u001b[0;34m\"prices_round_2_day_1.csv\"\u001b[0m\u001b[0;34m,\u001b[0m \u001b[0msep\u001b[0m\u001b[0;34m=\u001b[0m\u001b[0;34m\";\"\u001b[0m\u001b[0;34m)\u001b[0m\u001b[0;34m\u001b[0m\u001b[0;34m\u001b[0m\u001b[0m\n",
      "\u001b[0;32m/usr/local/lib/python3.11/dist-packages/pandas/io/parsers/readers.py\u001b[0m in \u001b[0;36mread_csv\u001b[0;34m(filepath_or_buffer, sep, delimiter, header, names, index_col, usecols, dtype, engine, converters, true_values, false_values, skipinitialspace, skiprows, skipfooter, nrows, na_values, keep_default_na, na_filter, verbose, skip_blank_lines, parse_dates, infer_datetime_format, keep_date_col, date_parser, date_format, dayfirst, cache_dates, iterator, chunksize, compression, thousands, decimal, lineterminator, quotechar, quoting, doublequote, escapechar, comment, encoding, encoding_errors, dialect, on_bad_lines, delim_whitespace, low_memory, memory_map, float_precision, storage_options, dtype_backend)\u001b[0m\n\u001b[1;32m   1024\u001b[0m     \u001b[0mkwds\u001b[0m\u001b[0;34m.\u001b[0m\u001b[0mupdate\u001b[0m\u001b[0;34m(\u001b[0m\u001b[0mkwds_defaults\u001b[0m\u001b[0;34m)\u001b[0m\u001b[0;34m\u001b[0m\u001b[0;34m\u001b[0m\u001b[0m\n\u001b[1;32m   1025\u001b[0m \u001b[0;34m\u001b[0m\u001b[0m\n\u001b[0;32m-> 1026\u001b[0;31m     \u001b[0;32mreturn\u001b[0m \u001b[0m_read\u001b[0m\u001b[0;34m(\u001b[0m\u001b[0mfilepath_or_buffer\u001b[0m\u001b[0;34m,\u001b[0m \u001b[0mkwds\u001b[0m\u001b[0;34m)\u001b[0m\u001b[0;34m\u001b[0m\u001b[0;34m\u001b[0m\u001b[0m\n\u001b[0m\u001b[1;32m   1027\u001b[0m \u001b[0;34m\u001b[0m\u001b[0m\n\u001b[1;32m   1028\u001b[0m \u001b[0;34m\u001b[0m\u001b[0m\n",
      "\u001b[0;32m/usr/local/lib/python3.11/dist-packages/pandas/io/parsers/readers.py\u001b[0m in \u001b[0;36m_read\u001b[0;34m(filepath_or_buffer, kwds)\u001b[0m\n\u001b[1;32m    618\u001b[0m \u001b[0;34m\u001b[0m\u001b[0m\n\u001b[1;32m    619\u001b[0m     \u001b[0;31m# Create the parser.\u001b[0m\u001b[0;34m\u001b[0m\u001b[0;34m\u001b[0m\u001b[0m\n\u001b[0;32m--> 620\u001b[0;31m     \u001b[0mparser\u001b[0m \u001b[0;34m=\u001b[0m \u001b[0mTextFileReader\u001b[0m\u001b[0;34m(\u001b[0m\u001b[0mfilepath_or_buffer\u001b[0m\u001b[0;34m,\u001b[0m \u001b[0;34m**\u001b[0m\u001b[0mkwds\u001b[0m\u001b[0;34m)\u001b[0m\u001b[0;34m\u001b[0m\u001b[0;34m\u001b[0m\u001b[0m\n\u001b[0m\u001b[1;32m    621\u001b[0m \u001b[0;34m\u001b[0m\u001b[0m\n\u001b[1;32m    622\u001b[0m     \u001b[0;32mif\u001b[0m \u001b[0mchunksize\u001b[0m \u001b[0;32mor\u001b[0m \u001b[0miterator\u001b[0m\u001b[0;34m:\u001b[0m\u001b[0;34m\u001b[0m\u001b[0;34m\u001b[0m\u001b[0m\n",
      "\u001b[0;32m/usr/local/lib/python3.11/dist-packages/pandas/io/parsers/readers.py\u001b[0m in \u001b[0;36m__init__\u001b[0;34m(self, f, engine, **kwds)\u001b[0m\n\u001b[1;32m   1618\u001b[0m \u001b[0;34m\u001b[0m\u001b[0m\n\u001b[1;32m   1619\u001b[0m         \u001b[0mself\u001b[0m\u001b[0;34m.\u001b[0m\u001b[0mhandles\u001b[0m\u001b[0;34m:\u001b[0m \u001b[0mIOHandles\u001b[0m \u001b[0;34m|\u001b[0m \u001b[0;32mNone\u001b[0m \u001b[0;34m=\u001b[0m \u001b[0;32mNone\u001b[0m\u001b[0;34m\u001b[0m\u001b[0;34m\u001b[0m\u001b[0m\n\u001b[0;32m-> 1620\u001b[0;31m         \u001b[0mself\u001b[0m\u001b[0;34m.\u001b[0m\u001b[0m_engine\u001b[0m \u001b[0;34m=\u001b[0m \u001b[0mself\u001b[0m\u001b[0;34m.\u001b[0m\u001b[0m_make_engine\u001b[0m\u001b[0;34m(\u001b[0m\u001b[0mf\u001b[0m\u001b[0;34m,\u001b[0m \u001b[0mself\u001b[0m\u001b[0;34m.\u001b[0m\u001b[0mengine\u001b[0m\u001b[0;34m)\u001b[0m\u001b[0;34m\u001b[0m\u001b[0;34m\u001b[0m\u001b[0m\n\u001b[0m\u001b[1;32m   1621\u001b[0m \u001b[0;34m\u001b[0m\u001b[0m\n\u001b[1;32m   1622\u001b[0m     \u001b[0;32mdef\u001b[0m \u001b[0mclose\u001b[0m\u001b[0;34m(\u001b[0m\u001b[0mself\u001b[0m\u001b[0;34m)\u001b[0m \u001b[0;34m->\u001b[0m \u001b[0;32mNone\u001b[0m\u001b[0;34m:\u001b[0m\u001b[0;34m\u001b[0m\u001b[0;34m\u001b[0m\u001b[0m\n",
      "\u001b[0;32m/usr/local/lib/python3.11/dist-packages/pandas/io/parsers/readers.py\u001b[0m in \u001b[0;36m_make_engine\u001b[0;34m(self, f, engine)\u001b[0m\n\u001b[1;32m   1878\u001b[0m                 \u001b[0;32mif\u001b[0m \u001b[0;34m\"b\"\u001b[0m \u001b[0;32mnot\u001b[0m \u001b[0;32min\u001b[0m \u001b[0mmode\u001b[0m\u001b[0;34m:\u001b[0m\u001b[0;34m\u001b[0m\u001b[0;34m\u001b[0m\u001b[0m\n\u001b[1;32m   1879\u001b[0m                     \u001b[0mmode\u001b[0m \u001b[0;34m+=\u001b[0m \u001b[0;34m\"b\"\u001b[0m\u001b[0;34m\u001b[0m\u001b[0;34m\u001b[0m\u001b[0m\n\u001b[0;32m-> 1880\u001b[0;31m             self.handles = get_handle(\n\u001b[0m\u001b[1;32m   1881\u001b[0m                 \u001b[0mf\u001b[0m\u001b[0;34m,\u001b[0m\u001b[0;34m\u001b[0m\u001b[0;34m\u001b[0m\u001b[0m\n\u001b[1;32m   1882\u001b[0m                 \u001b[0mmode\u001b[0m\u001b[0;34m,\u001b[0m\u001b[0;34m\u001b[0m\u001b[0;34m\u001b[0m\u001b[0m\n",
      "\u001b[0;32m/usr/local/lib/python3.11/dist-packages/pandas/io/common.py\u001b[0m in \u001b[0;36mget_handle\u001b[0;34m(path_or_buf, mode, encoding, compression, memory_map, is_text, errors, storage_options)\u001b[0m\n\u001b[1;32m    871\u001b[0m         \u001b[0;32mif\u001b[0m \u001b[0mioargs\u001b[0m\u001b[0;34m.\u001b[0m\u001b[0mencoding\u001b[0m \u001b[0;32mand\u001b[0m \u001b[0;34m\"b\"\u001b[0m \u001b[0;32mnot\u001b[0m \u001b[0;32min\u001b[0m \u001b[0mioargs\u001b[0m\u001b[0;34m.\u001b[0m\u001b[0mmode\u001b[0m\u001b[0;34m:\u001b[0m\u001b[0;34m\u001b[0m\u001b[0;34m\u001b[0m\u001b[0m\n\u001b[1;32m    872\u001b[0m             \u001b[0;31m# Encoding\u001b[0m\u001b[0;34m\u001b[0m\u001b[0;34m\u001b[0m\u001b[0m\n\u001b[0;32m--> 873\u001b[0;31m             handle = open(\n\u001b[0m\u001b[1;32m    874\u001b[0m                 \u001b[0mhandle\u001b[0m\u001b[0;34m,\u001b[0m\u001b[0;34m\u001b[0m\u001b[0;34m\u001b[0m\u001b[0m\n\u001b[1;32m    875\u001b[0m                 \u001b[0mioargs\u001b[0m\u001b[0;34m.\u001b[0m\u001b[0mmode\u001b[0m\u001b[0;34m,\u001b[0m\u001b[0;34m\u001b[0m\u001b[0;34m\u001b[0m\u001b[0m\n",
      "\u001b[0;31mFileNotFoundError\u001b[0m: [Errno 2] No such file or directory: 'prices_round_2_day_-1.csv'"
     ]
    }
   ],
   "source": [
    "import matplotlib.pyplot as plt\n",
    "import pandas as pd\n",
    "import numpy as np\n",
    "\n",
    "# === Load Data ===\n",
    "prices_neg1 = pd.read_csv(\"prices_round_2_day_-1.csv\", sep=\";\")\n",
    "prices_0 = pd.read_csv(\"prices_round_2_day_0.csv\", sep=\";\")\n",
    "prices_1 = pd.read_csv(\"prices_round_2_day_1.csv\", sep=\";\")\n",
    "\n",
    "# === Combine All Days ===\n",
    "all_prices = pd.concat([prices_neg1, prices_0, prices_1], ignore_index=True)\n",
    "\n",
    "# === Filter Relevant Products ===\n",
    "relevant_products = [\"CROISSANTS\", \"JAMS\", \"DJEMBES\", \"PICNIC_BASKET1\", \"PICNIC_BASKET2\"]\n",
    "filtered_df = all_prices[all_prices[\"product\"].isin(relevant_products)]\n",
    "\n",
    "# === Average Mid Prices (in case of duplicates) ===\n",
    "filtered_avg = (\n",
    "    filtered_df.groupby([\"timestamp\", \"product\"])[\"mid_price\"]\n",
    "    .mean()\n",
    "    .reset_index()\n",
    ")\n",
    "\n",
    "# === Pivot Table ===\n",
    "pivot_df = filtered_avg.pivot(index=\"timestamp\", columns=\"product\", values=\"mid_price\").sort_index()\n",
    "\n",
    "# === Compute Synthetic Basket Prices ===\n",
    "pivot_df[\"BASKET1_SYNTH\"] = 6 * pivot_df[\"CROISSANTS\"] + 3 * pivot_df[\"JAMS\"] + 1 * pivot_df[\"DJEMBES\"]\n",
    "pivot_df[\"BASKET2_SYNTH\"] = 4 * pivot_df[\"CROISSANTS\"] + 2 * pivot_df[\"JAMS\"]\n",
    "\n",
    "# === Calculate Spread ===\n",
    "pivot_df[\"SPREAD1\"] = pivot_df[\"PICNIC_BASKET1\"] - pivot_df[\"BASKET1_SYNTH\"]\n",
    "pivot_df[\"SPREAD2\"] = pivot_df[\"PICNIC_BASKET2\"] - pivot_df[\"BASKET2_SYNTH\"]\n",
    "\n",
    "# === Z-Score Calculation ===\n",
    "window = 50  # rolling window size\n",
    "for i in [1, 2]:\n",
    "    spread = f\"SPREAD{i}\"\n",
    "    pivot_df[f\"{spread}_MEAN\"] = pivot_df[spread].rolling(window=window).mean()\n",
    "    pivot_df[f\"{spread}_STD\"] = pivot_df[spread].rolling(window=window).std()\n",
    "    pivot_df[f\"{spread}_ZSCORE\"] = (\n",
    "        (pivot_df[spread] - pivot_df[f\"{spread}_MEAN\"]) / pivot_df[f\"{spread}_STD\"]\n",
    "    )\n",
    "\n",
    "# === Display Key Columns ===\n",
    "print(pivot_df[[\n",
    "    \"SPREAD1\", \"SPREAD1_MEAN\", \"SPREAD1_STD\", \"SPREAD1_ZSCORE\",\n",
    "    \"SPREAD2\", \"SPREAD2_MEAN\", \"SPREAD2_STD\", \"SPREAD2_ZSCORE\"\n",
    "]].dropna().head(10))\n",
    "\n",
    "# === Plotting ===\n",
    "\n",
    "# Spread and Z-score for Basket 1\n",
    "fig1, ax1 = plt.subplots()\n",
    "pivot_df[[\"SPREAD1\", \"SPREAD1_MEAN\"]].plot(ax=ax1)\n",
    "ax1.set_title(\"Basket 1 Spread vs Synthetic Value\")\n",
    "ax1.set_xlabel(\"Timestamp\")\n",
    "ax1.set_ylabel(\"Spread\")\n",
    "ax1.axhline(0, color=\"gray\", linestyle=\"--\")\n",
    "\n",
    "fig2, ax2 = plt.subplots()\n",
    "pivot_df[\"SPREAD1_ZSCORE\"].plot(ax=ax2)\n",
    "ax2.set_title(\"Z-score of Basket 1 Spread\")\n",
    "ax2.set_xlabel(\"Timestamp\")\n",
    "ax2.axhline(1, color=\"red\", linestyle=\"--\")\n",
    "ax2.axhline(-1, color=\"green\", linestyle=\"--\")\n",
    "\n",
    "# Spread and Z-score for Basket 2\n",
    "fig3, ax3 = plt.subplots()\n",
    "pivot_df[[\"SPREAD2\", \"SPREAD2_MEAN\"]].plot(ax=ax3)\n",
    "ax3.set_title(\"Basket 2 Spread vs Synthetic Value\")\n",
    "ax3.set_xlabel(\"Timestamp\")\n",
    "ax3.set_ylabel(\"Spread\")\n",
    "ax3.axhline(0, color=\"gray\", linestyle=\"--\")\n",
    "\n",
    "fig4, ax4 = plt.subplots()\n",
    "pivot_df[\"SPREAD2_ZSCORE\"].plot(ax=ax4)\n",
    "ax4.set_title(\"Z-score of Basket 2 Spread\")\n",
    "ax4.set_xlabel(\"Timestamp\")\n",
    "ax4.axhline(1, color=\"red\", linestyle=\"--\")\n",
    "ax4.axhline(-1, color=\"green\", linestyle=\"--\")\n",
    "\n",
    "plt.tight_layout()\n",
    "plt.show()"
   ]
  }
 ],
 "metadata": {
  "colab": {
   "authorship_tag": "ABX9TyNapfoRHkGwm/E43zIQ8MGW",
   "mount_file_id": "1A_L8jUzjp2mOqm4abRXm99HOwgWVRSmt",
   "provenance": []
  },
  "kernelspec": {
   "display_name": "Python 3 (ipykernel)",
   "language": "python",
   "name": "python3"
  },
  "language_info": {
   "codemirror_mode": {
    "name": "ipython",
    "version": 3
   },
   "file_extension": ".py",
   "mimetype": "text/x-python",
   "name": "python",
   "nbconvert_exporter": "python",
   "pygments_lexer": "ipython3",
   "version": "3.11.7"
  }
 },
 "nbformat": 4,
 "nbformat_minor": 4
}
