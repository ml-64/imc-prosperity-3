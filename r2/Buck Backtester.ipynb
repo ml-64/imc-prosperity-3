{
 "cells": [
  {
   "cell_type": "code",
   "execution_count": null,
   "metadata": {
    "id": "_z32hygeoDhR"
   },
   "outputs": [],
   "source": [
    "!pip install -U prosperity3bt\n",
    "!prosperity3bt \"Buck_Trading_V1.py\" -1 --match-trades worse --merge-pnl --vis"
   ]
  }
 ],
 "metadata": {
  "colab": {
   "authorship_tag": "ABX9TyPFH3cfwOCdxxYIddetWh/w",
   "mount_file_id": "169NMzJWI-wwuctHHhDLYMWSwufEGALUh",
   "provenance": []
  },
  "kernelspec": {
   "display_name": "Python 3 (ipykernel)",
   "language": "python",
   "name": "python3"
  },
  "language_info": {
   "codemirror_mode": {
    "name": "ipython",
    "version": 3
   },
   "file_extension": ".py",
   "mimetype": "text/x-python",
   "name": "python",
   "nbconvert_exporter": "python",
   "pygments_lexer": "ipython3",
   "version": "3.12.4"
  }
 },
 "nbformat": 4,
 "nbformat_minor": 4
}
